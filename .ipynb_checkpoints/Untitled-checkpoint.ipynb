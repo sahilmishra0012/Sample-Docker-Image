{
 "cells": [
  {
   "cell_type": "code",
   "execution_count": 12,
   "metadata": {},
   "outputs": [],
   "source": [
    "import pandas as pd"
   ]
  },
  {
   "cell_type": "code",
   "execution_count": 13,
   "metadata": {},
   "outputs": [],
   "source": [
    "data=pd.read_csv('data.csv')"
   ]
  },
  {
   "cell_type": "code",
   "execution_count": 14,
   "metadata": {},
   "outputs": [
    {
     "data": {
      "text/html": [
       "<div>\n",
       "<style scoped>\n",
       "    .dataframe tbody tr th:only-of-type {\n",
       "        vertical-align: middle;\n",
       "    }\n",
       "\n",
       "    .dataframe tbody tr th {\n",
       "        vertical-align: top;\n",
       "    }\n",
       "\n",
       "    .dataframe thead th {\n",
       "        text-align: right;\n",
       "    }\n",
       "</style>\n",
       "<table border=\"1\" class=\"dataframe\">\n",
       "  <thead>\n",
       "    <tr style=\"text-align: right;\">\n",
       "      <th></th>\n",
       "      <th>First_Name</th>\n",
       "      <th>Last_Name</th>\n",
       "      <th>Blood_Group</th>\n",
       "      <th>Address</th>\n",
       "      <th>Phone_Number</th>\n",
       "    </tr>\n",
       "  </thead>\n",
       "  <tbody>\n",
       "    <tr>\n",
       "      <th>0</th>\n",
       "      <td>Sahil</td>\n",
       "      <td>Mishra</td>\n",
       "      <td>O+</td>\n",
       "      <td>12 Madhupuram Colony, IIM Road off Sitapur Roa...</td>\n",
       "      <td>7007059528</td>\n",
       "    </tr>\n",
       "    <tr>\n",
       "      <th>1</th>\n",
       "      <td>Shikhar</td>\n",
       "      <td>Mishra</td>\n",
       "      <td>B+</td>\n",
       "      <td>12 Madhupuram Colony, IIM Road off Sitapur Roa...</td>\n",
       "      <td>9793717669</td>\n",
       "    </tr>\n",
       "    <tr>\n",
       "      <th>2</th>\n",
       "      <td>Vinod Kumar</td>\n",
       "      <td>Mishra</td>\n",
       "      <td>B+</td>\n",
       "      <td>12 Madhupuram Colony, IIM Road off Sitapur Roa...</td>\n",
       "      <td>9935861001</td>\n",
       "    </tr>\n",
       "    <tr>\n",
       "      <th>3</th>\n",
       "      <td>Atul</td>\n",
       "      <td>Dixit</td>\n",
       "      <td>A+</td>\n",
       "      <td>14-15 Madhupuram Colony, IIM Road off Sitapur ...</td>\n",
       "      <td>8400459533</td>\n",
       "    </tr>\n",
       "  </tbody>\n",
       "</table>\n",
       "</div>"
      ],
      "text/plain": [
       "    First_Name Last_Name Blood_Group  \\\n",
       "0        Sahil    Mishra          O+   \n",
       "1      Shikhar    Mishra          B+   \n",
       "2  Vinod Kumar    Mishra          B+   \n",
       "3         Atul     Dixit          A+   \n",
       "\n",
       "                                             Address  Phone_Number  \n",
       "0  12 Madhupuram Colony, IIM Road off Sitapur Roa...    7007059528  \n",
       "1  12 Madhupuram Colony, IIM Road off Sitapur Roa...    9793717669  \n",
       "2  12 Madhupuram Colony, IIM Road off Sitapur Roa...    9935861001  \n",
       "3  14-15 Madhupuram Colony, IIM Road off Sitapur ...    8400459533  "
      ]
     },
     "execution_count": 14,
     "metadata": {},
     "output_type": "execute_result"
    }
   ],
   "source": [
    "data"
   ]
  },
  {
   "cell_type": "code",
   "execution_count": null,
   "metadata": {},
   "outputs": [],
   "source": [
    "for i in data:\n",
    "    print(i[2])"
   ]
  }
 ],
 "metadata": {
  "kernelspec": {
   "display_name": "Python 3",
   "language": "python",
   "name": "python3"
  },
  "language_info": {
   "codemirror_mode": {
    "name": "ipython",
    "version": 3
   },
   "file_extension": ".py",
   "mimetype": "text/x-python",
   "name": "python",
   "nbconvert_exporter": "python",
   "pygments_lexer": "ipython3",
   "version": "3.7.4"
  }
 },
 "nbformat": 4,
 "nbformat_minor": 4
}
